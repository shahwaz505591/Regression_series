{
 "cells": [
  {
   "cell_type": "code",
   "execution_count": null,
   "id": "43f35e9d-1289-4af5-83de-a5e58daa3503",
   "metadata": {},
   "outputs": [],
   "source": [
    "Q1. Difference between Simple Linear Regression and Multiple Linear Regression:\n",
    "\n",
    "Simple Linear Regression:\n",
    "\n",
    "Involves predicting a dependent variable (response) based on a single independent variable (feature).\n",
    "Equation: y=β0+β1x+ε, where y is the dependent variable, x is the independent variable, \n",
    "  is the intercept b0, β1is the slope, and ε is the error term.\n",
    "Example: Predicting house prices based on the square footage of the house.\n",
    "Multiple Linear Regression:\n",
    "\n",
    "Involves predicting a dependent variable based on two or more independent variables.\n",
    "Equation:\n",
    "y=β0+β1x1+β2x2+…+βnxn+ε, where \n",
    "y is the dependent variable, are the independent variables, β0 is the intercept β 1\n",
    "​\n",
    " ,β \n",
    "2\n",
    "​\n",
    " ,…,β \n",
    "n\n",
    "are the slopes, and \n",
    "�\n",
    "ε is the error term.\n",
    "Example: Predicting a student's exam score based on hours of study, previous exam scores, and attendance."
   ]
  },
  {
   "cell_type": "code",
   "execution_count": null,
   "id": "b2c5bd87-464e-4ecf-b54b-69a450fc48b6",
   "metadata": {},
   "outputs": [],
   "source": [
    "Q2. Assumptions of Linear Regression:\n",
    "Linear regression assumes:\n",
    "\n",
    "Linearity: The relationship between independent and dependent variables is linear.\n",
    "Independence: Observations are independent of each other.\n",
    "Homoscedasticity: Residuals (errors) have constant variance.\n",
    "Normality of Residuals: Residuals follow a normal distribution.\n",
    "No Multicollinearity: Independent variables are not highly correlated.\n",
    "Checking assumptions:\n",
    "\n",
    "Visual inspection of residuals plots.\n",
    "Shapiro-Wilk test for normality.\n",
    "Durbin-Watson test for independence.\n",
    "Variance Inflation Factor (VIF) for multicollinearity.\n"
   ]
  },
  {
   "cell_type": "markdown",
   "id": "0f8666f6-128f-4d98-995a-9be18ca0a1d0",
   "metadata": {},
   "source": [
    "Q3. Interpretation of Slope and Intercept in Linear Regression:\n",
    "\n",
    "Intercept (β0): The predicted value of the dependent variable when all independent variables are zero.\n",
    "Slope (β1): The change in the dependent variable for a one-unit change in the independent variable.\n",
    "Example: In a house price prediction model, the intercept is the predicted price when the house size is zero, and the slope is the change in price for a one-unit increase in house size."
   ]
  },
  {
   "cell_type": "markdown",
   "id": "e179f424-f5c4-4888-9301-9ce31edd8d92",
   "metadata": {},
   "source": [
    "Q4. Concept of Gradient Descent:\n",
    "Gradient Descent is an optimization algorithm used to minimize the cost (error) function in machine learning. It involves iteratively adjusting the model parameters (coefficients) in the direction of steepest descent of the cost function.\n",
    "\n"
   ]
  },
  {
   "cell_type": "markdown",
   "id": "fc2bbb72-9f1e-4802-a3bd-e4763afb7821",
   "metadata": {},
   "source": [
    "Q5. Multiple Linear Regression Model:\n",
    "Multiple linear regression involves predicting a dependent variable based on multiple independent variables. The model equation is \n",
    "y=β0+β1x1+β2x2+…+βnxn+ε, where \n",
    "\n",
    "y is the dependent variable, x1,x2,…,xn.\n",
    "  are the independent variables, and β0,β1,β2,…,βn are the coefficients."
   ]
  },
  {
   "cell_type": "markdown",
   "id": "65c01cf6-3752-4835-91a2-1b242c51ada5",
   "metadata": {},
   "source": [
    "Q6. Multicollinearity in Multiple Linear Regression:\n",
    "Multicollinearity occurs when two or more independent variables are highly correlated, making it challenging to distinguish their individual effects on the dependent variable. Detection methods include correlation matrices and VIF. Addressing multicollinearity may involve removing one of the correlated variables or using techniques like regularization.\n",
    "\n"
   ]
  },
  {
   "cell_type": "markdown",
   "id": "00ff5dd6-be0a-4d0a-bdb6-3900d3e65b95",
   "metadata": {},
   "source": [
    "Q7. Polynomial Regression Model:\n",
    "Polynomial regression is a form of regression analysis where the relationship between the independent variable \n",
    "\n",
    "x and the dependent variable, y is modeled as an \n",
    "n-degree polynomial. The model equation is y=β0+β1x+β2x2+…+βnxn+ε."
   ]
  },
  {
   "cell_type": "markdown",
   "id": "4eed0610-51af-422b-9a65-9526d9b6a59a",
   "metadata": {},
   "source": [
    "Q8. Advantages and Disadvantages of Polynomial Regression:\n",
    "\n",
    "Advantages:\n",
    "Captures non-linear relationships.\n",
    "Provides a good fit for some datasets.\n",
    "Disadvantages:\n",
    "Prone to overfitting, especially with higher-degree polynomials.\n",
    "Complexity increases with higher degrees.\n",
    "Use Cases:\n",
    "Suitable when the relationship between variables is curvilinear and cannot be captured by a linear model."
   ]
  },
  {
   "cell_type": "code",
   "execution_count": null,
   "id": "f527e191-b010-41d9-abfb-3d527edc5f1a",
   "metadata": {},
   "outputs": [],
   "source": []
  },
  {
   "cell_type": "code",
   "execution_count": null,
   "id": "5fff8b07-6c24-4d1f-8626-b91fd933a722",
   "metadata": {},
   "outputs": [],
   "source": []
  },
  {
   "cell_type": "code",
   "execution_count": null,
   "id": "99304564-a611-4210-9427-be89cfccf8c6",
   "metadata": {},
   "outputs": [],
   "source": []
  },
  {
   "cell_type": "code",
   "execution_count": null,
   "id": "7db3c19a-a83f-4099-bd43-617c09ed6b62",
   "metadata": {},
   "outputs": [],
   "source": []
  },
  {
   "cell_type": "code",
   "execution_count": null,
   "id": "749384e3-15f8-4e44-a768-65142c6b304c",
   "metadata": {},
   "outputs": [],
   "source": []
  },
  {
   "cell_type": "code",
   "execution_count": null,
   "id": "54d124fb-4a12-406a-b449-c5332b8b67af",
   "metadata": {},
   "outputs": [],
   "source": []
  }
 ],
 "metadata": {
  "kernelspec": {
   "display_name": "Python 3 (ipykernel)",
   "language": "python",
   "name": "python3"
  },
  "language_info": {
   "codemirror_mode": {
    "name": "ipython",
    "version": 3
   },
   "file_extension": ".py",
   "mimetype": "text/x-python",
   "name": "python",
   "nbconvert_exporter": "python",
   "pygments_lexer": "ipython3",
   "version": "3.10.8"
  }
 },
 "nbformat": 4,
 "nbformat_minor": 5
}
